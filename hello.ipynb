{
 "cells": [
  {
   "cell_type": "markdown",
   "id": "a1b98c97",
   "metadata": {},
   "source": [
    "[![Open In Colab](https://colab.research.google.com/assets/colab-badge.svg)](https://colab.research.google.com/github/googlecolab/colabtools/blob/master/notebooks/colab-github-demo.ipynb)"
   ]
  },
  {
   "cell_type": "markdown",
   "id": "74d6f2fc",
   "metadata": {},
   "source": [
    "!nvidia-smi"
   ]
  },
  {
   "cell_type": "code",
   "execution_count": 2,
   "id": "ceaef672",
   "metadata": {},
   "outputs": [
    {
     "name": "stdout",
     "output_type": "stream",
     "text": [
      "Collecting poetry\n",
      "  Downloading poetry-1.4.2-py3-none-any.whl (222 kB)\n",
      "\u001b[2K     \u001b[38;2;114;156;31m━━━━━━━━━━━━━━━━━━━━━━━━━━━━━━━━━━━━━━━\u001b[0m \u001b[32m222.7/222.7 kB\u001b[0m \u001b[31m4.7 MB/s\u001b[0m eta \u001b[36m0:00:00\u001b[0m[31m6.0 MB/s\u001b[0m eta \u001b[36m0:00:01\u001b[0m\n",
      "\u001b[?25hCollecting build<0.11.0,>=0.10.0\n",
      "  Downloading build-0.10.0-py3-none-any.whl (17 kB)\n",
      "Collecting cachecontrol[filecache]<0.13.0,>=0.12.9\n",
      "  Downloading CacheControl-0.12.11-py2.py3-none-any.whl (21 kB)\n",
      "Collecting cleo<3.0.0,>=2.0.0\n",
      "  Downloading cleo-2.0.1-py3-none-any.whl (77 kB)\n",
      "\u001b[2K     \u001b[38;2;114;156;31m━━━━━━━━━━━━━━━━━━━━━━━━━━━━━━━━━━━━━━━━\u001b[0m \u001b[32m77.3/77.3 kB\u001b[0m \u001b[31m8.1 MB/s\u001b[0m eta \u001b[36m0:00:00\u001b[0m\n",
      "\u001b[?25hCollecting crashtest<0.5.0,>=0.4.1\n",
      "  Downloading crashtest-0.4.1-py3-none-any.whl (7.6 kB)\n",
      "Collecting dulwich<0.22.0,>=0.21.2\n",
      "  Downloading dulwich-0.21.3-cp311-cp311-macosx_11_0_arm64.whl (467 kB)\n",
      "\u001b[2K     \u001b[38;2;114;156;31m━━━━━━━━━━━━━━━━━━━━━━━━━━━━━━━━━━━━━━\u001b[0m \u001b[32m467.1/467.1 kB\u001b[0m \u001b[31m16.2 MB/s\u001b[0m eta \u001b[36m0:00:00\u001b[0m\n",
      "\u001b[?25hCollecting filelock<4.0.0,>=3.8.0\n",
      "  Downloading filelock-3.12.0-py3-none-any.whl (10 kB)\n",
      "Collecting html5lib<2.0,>=1.0\n",
      "  Downloading html5lib-1.1-py2.py3-none-any.whl (112 kB)\n",
      "\u001b[2K     \u001b[38;2;114;156;31m━━━━━━━━━━━━━━━━━━━━━━━━━━━━━━━━━━━━━━\u001b[0m \u001b[32m112.2/112.2 kB\u001b[0m \u001b[31m13.6 MB/s\u001b[0m eta \u001b[36m0:00:00\u001b[0m\n",
      "\u001b[?25hCollecting installer<0.8.0,>=0.7.0\n",
      "  Downloading installer-0.7.0-py3-none-any.whl (453 kB)\n",
      "\u001b[2K     \u001b[38;2;114;156;31m━━━━━━━━━━━━━━━━━━━━━━━━━━━━━━━━━━━━━━\u001b[0m \u001b[32m453.8/453.8 kB\u001b[0m \u001b[31m19.9 MB/s\u001b[0m eta \u001b[36m0:00:00\u001b[0m\n",
      "\u001b[?25hRequirement already satisfied: jsonschema<5.0.0,>=4.10.0 in /Users/msu/Library/Caches/pypoetry/virtualenvs/colab-demo-qw6CLnem-py3.11/lib/python3.11/site-packages (from poetry) (4.17.3)\n",
      "Collecting keyring<24.0.0,>=23.9.0\n",
      "  Downloading keyring-23.13.1-py3-none-any.whl (37 kB)\n",
      "Collecting lockfile<0.13.0,>=0.12.2\n",
      "  Downloading lockfile-0.12.2-py2.py3-none-any.whl (13 kB)\n",
      "Requirement already satisfied: packaging>=20.4 in /Users/msu/Library/Caches/pypoetry/virtualenvs/colab-demo-qw6CLnem-py3.11/lib/python3.11/site-packages (from poetry) (23.1)\n",
      "Requirement already satisfied: pexpect<5.0.0,>=4.7.0 in /Users/msu/Library/Caches/pypoetry/virtualenvs/colab-demo-qw6CLnem-py3.11/lib/python3.11/site-packages (from poetry) (4.8.0)\n",
      "Collecting pkginfo<2.0.0,>=1.9.4\n",
      "  Downloading pkginfo-1.9.6-py3-none-any.whl (30 kB)\n",
      "Collecting platformdirs<3.0.0,>=2.5.2\n",
      "  Downloading platformdirs-2.6.2-py3-none-any.whl (14 kB)\n",
      "Collecting poetry-core==1.5.2\n",
      "  Downloading poetry_core-1.5.2-py3-none-any.whl (465 kB)\n",
      "\u001b[2K     \u001b[38;2;114;156;31m━━━━━━━━━━━━━━━━━━━━━━━━━━━━━━━━━━━━━━\u001b[0m \u001b[32m465.2/465.2 kB\u001b[0m \u001b[31m25.8 MB/s\u001b[0m eta \u001b[36m0:00:00\u001b[0m\n",
      "\u001b[?25hCollecting poetry-plugin-export<2.0.0,>=1.3.0\n",
      "  Downloading poetry_plugin_export-1.3.1-py3-none-any.whl (10 kB)\n",
      "Collecting pyproject-hooks<2.0.0,>=1.0.0\n",
      "  Downloading pyproject_hooks-1.0.0-py3-none-any.whl (9.3 kB)\n",
      "Collecting requests<3.0,>=2.18\n",
      "  Using cached requests-2.28.2-py3-none-any.whl (62 kB)\n",
      "Collecting requests-toolbelt<0.11.0,>=0.9.1\n",
      "  Downloading requests_toolbelt-0.10.1-py2.py3-none-any.whl (54 kB)\n",
      "\u001b[2K     \u001b[38;2;114;156;31m━━━━━━━━━━━━━━━━━━━━━━━━━━━━━━━━━━━━━━━━\u001b[0m \u001b[32m54.5/54.5 kB\u001b[0m \u001b[31m4.6 MB/s\u001b[0m eta \u001b[36m0:00:00\u001b[0m\n",
      "\u001b[?25hCollecting shellingham<2.0,>=1.5\n",
      "  Downloading shellingham-1.5.0.post1-py2.py3-none-any.whl (9.4 kB)\n",
      "Collecting tomlkit!=0.11.2,!=0.11.3,<1.0.0,>=0.11.1\n",
      "  Downloading tomlkit-0.11.7-py3-none-any.whl (35 kB)\n",
      "Collecting trove-classifiers>=2022.5.19\n",
      "  Downloading trove_classifiers-2023.4.22-py3-none-any.whl (13 kB)\n",
      "Collecting urllib3<2.0.0,>=1.26.0\n",
      "  Using cached urllib3-1.26.15-py2.py3-none-any.whl (140 kB)\n",
      "Collecting virtualenv!=20.4.5,!=20.4.6,<21.0.0,>=20.4.3\n",
      "  Downloading virtualenv-20.22.0-py3-none-any.whl (3.2 MB)\n",
      "\u001b[2K     \u001b[38;2;114;156;31m━━━━━━━━━━━━━━━━━━━━━━━━━━━━━━━━━━━━━━━━\u001b[0m \u001b[32m3.2/3.2 MB\u001b[0m \u001b[31m25.3 MB/s\u001b[0m eta \u001b[36m0:00:00\u001b[0m[36m0:00:01\u001b[0m[36m0:00:01\u001b[0m:01\u001b[0m\n",
      "\u001b[?25hCollecting xattr<0.11.0,>=0.10.0\n",
      "  Downloading xattr-0.10.1-cp311-cp311-macosx_11_0_arm64.whl (15 kB)\n",
      "Collecting msgpack>=0.5.2\n",
      "  Downloading msgpack-1.0.5-cp311-cp311-macosx_11_0_arm64.whl (69 kB)\n",
      "\u001b[2K     \u001b[38;2;114;156;31m━━━━━━━━━━━━━━━━━━━━━━━━━━━━━━━━━━━━━━━━\u001b[0m \u001b[32m69.0/69.0 kB\u001b[0m \u001b[31m7.9 MB/s\u001b[0m eta \u001b[36m0:00:00\u001b[0m\n",
      "\u001b[?25hCollecting rapidfuzz<3.0.0,>=2.2.0\n",
      "  Downloading rapidfuzz-2.15.1-cp311-cp311-macosx_11_0_arm64.whl (1.1 MB)\n",
      "\u001b[2K     \u001b[38;2;114;156;31m━━━━━━━━━━━━━━━━━━━━━━━━━━━━━━━━━━━━━━━━\u001b[0m \u001b[32m1.1/1.1 MB\u001b[0m \u001b[31m34.1 MB/s\u001b[0m eta \u001b[36m0:00:00\u001b[0m\n",
      "\u001b[?25hRequirement already satisfied: six>=1.9 in /Users/msu/Library/Caches/pypoetry/virtualenvs/colab-demo-qw6CLnem-py3.11/lib/python3.11/site-packages (from html5lib<2.0,>=1.0->poetry) (1.16.0)\n",
      "Requirement already satisfied: webencodings in /Users/msu/Library/Caches/pypoetry/virtualenvs/colab-demo-qw6CLnem-py3.11/lib/python3.11/site-packages (from html5lib<2.0,>=1.0->poetry) (0.5.1)\n",
      "Requirement already satisfied: attrs>=17.4.0 in /Users/msu/Library/Caches/pypoetry/virtualenvs/colab-demo-qw6CLnem-py3.11/lib/python3.11/site-packages (from jsonschema<5.0.0,>=4.10.0->poetry) (23.1.0)\n",
      "Requirement already satisfied: pyrsistent!=0.17.0,!=0.17.1,!=0.17.2,>=0.14.0 in /Users/msu/Library/Caches/pypoetry/virtualenvs/colab-demo-qw6CLnem-py3.11/lib/python3.11/site-packages (from jsonschema<5.0.0,>=4.10.0->poetry) (0.19.3)\n",
      "Collecting jaraco.classes\n",
      "  Downloading jaraco.classes-3.2.3-py3-none-any.whl (6.0 kB)\n",
      "Collecting importlib-metadata>=4.11.4\n",
      "  Downloading importlib_metadata-6.6.0-py3-none-any.whl (22 kB)\n",
      "Requirement already satisfied: ptyprocess>=0.5 in /Users/msu/Library/Caches/pypoetry/virtualenvs/colab-demo-qw6CLnem-py3.11/lib/python3.11/site-packages (from pexpect<5.0.0,>=4.7.0->poetry) (0.7.0)\n",
      "Collecting charset-normalizer<4,>=2\n",
      "  Using cached charset_normalizer-3.1.0-cp311-cp311-macosx_11_0_arm64.whl (121 kB)\n",
      "Requirement already satisfied: idna<4,>=2.5 in /Users/msu/Library/Caches/pypoetry/virtualenvs/colab-demo-qw6CLnem-py3.11/lib/python3.11/site-packages (from requests<3.0,>=2.18->poetry) (3.4)\n",
      "Collecting certifi>=2017.4.17\n",
      "  Using cached certifi-2022.12.7-py3-none-any.whl (155 kB)\n",
      "Collecting distlib<1,>=0.3.6\n",
      "  Downloading distlib-0.3.6-py2.py3-none-any.whl (468 kB)\n",
      "\u001b[2K     \u001b[38;2;114;156;31m━━━━━━━━━━━━━━━━━━━━━━━━━━━━━━━━━━━━━━\u001b[0m \u001b[32m468.5/468.5 kB\u001b[0m \u001b[31m15.6 MB/s\u001b[0m eta \u001b[36m0:00:00\u001b[0m\n",
      "\u001b[?25hCollecting virtualenv!=20.4.5,!=20.4.6,<21.0.0,>=20.4.3\n",
      "  Downloading virtualenv-20.21.1-py3-none-any.whl (8.7 MB)\n",
      "\u001b[2K     \u001b[38;2;114;156;31m━━━━━━━━━━━━━━━━━━━━━━━━━━━━━━━━━━━━━━━━\u001b[0m \u001b[32m8.7/8.7 MB\u001b[0m \u001b[31m31.1 MB/s\u001b[0m eta \u001b[36m0:00:00\u001b[0mm eta \u001b[36m0:00:01\u001b[0m[36m0:00:01\u001b[0m\n",
      "\u001b[?25hRequirement already satisfied: cffi>=1.0 in /Users/msu/Library/Caches/pypoetry/virtualenvs/colab-demo-qw6CLnem-py3.11/lib/python3.11/site-packages (from xattr<0.11.0,>=0.10.0->poetry) (1.15.1)\n",
      "Requirement already satisfied: pycparser in /Users/msu/Library/Caches/pypoetry/virtualenvs/colab-demo-qw6CLnem-py3.11/lib/python3.11/site-packages (from cffi>=1.0->xattr<0.11.0,>=0.10.0->poetry) (2.21)\n",
      "Collecting zipp>=0.5\n",
      "  Downloading zipp-3.15.0-py3-none-any.whl (6.8 kB)\n",
      "Collecting more-itertools\n",
      "  Downloading more_itertools-9.1.0-py3-none-any.whl (54 kB)\n",
      "\u001b[2K     \u001b[38;2;114;156;31m━━━━━━━━━━━━━━━━━━━━━━━━━━━━━━━━━━━━━━━━\u001b[0m \u001b[32m54.2/54.2 kB\u001b[0m \u001b[31m6.3 MB/s\u001b[0m eta \u001b[36m0:00:00\u001b[0m\n",
      "\u001b[?25hInstalling collected packages: trove-classifiers, msgpack, lockfile, distlib, zipp, urllib3, tomlkit, shellingham, rapidfuzz, pyproject-hooks, poetry-core, platformdirs, pkginfo, more-itertools, installer, html5lib, filelock, crashtest, charset-normalizer, certifi, xattr, virtualenv, requests, jaraco.classes, importlib-metadata, dulwich, cleo, build, requests-toolbelt, keyring, cachecontrol, poetry-plugin-export, poetry\n",
      "  Attempting uninstall: platformdirs\n",
      "    Found existing installation: platformdirs 3.3.0\n",
      "    Uninstalling platformdirs-3.3.0:\n",
      "      Successfully uninstalled platformdirs-3.3.0\n",
      "Successfully installed build-0.10.0 cachecontrol-0.12.11 certifi-2022.12.7 charset-normalizer-3.1.0 cleo-2.0.1 crashtest-0.4.1 distlib-0.3.6 dulwich-0.21.3 filelock-3.12.0 html5lib-1.1 importlib-metadata-6.6.0 installer-0.7.0 jaraco.classes-3.2.3 keyring-23.13.1 lockfile-0.12.2 more-itertools-9.1.0 msgpack-1.0.5 pkginfo-1.9.6 platformdirs-2.6.2 poetry-1.4.2 poetry-core-1.5.2 poetry-plugin-export-1.3.1 pyproject-hooks-1.0.0 rapidfuzz-2.15.1 requests-2.28.2 requests-toolbelt-0.10.1 shellingham-1.5.0.post1 tomlkit-0.11.7 trove-classifiers-2023.4.22 urllib3-1.26.15 virtualenv-20.21.1 xattr-0.10.1 zipp-3.15.0\n"
     ]
    },
    {
     "name": "stdout",
     "output_type": "stream",
     "text": [
      "\r\n",
      "\u001b[1m[\u001b[0m\u001b[34;49mnotice\u001b[0m\u001b[1;39;49m]\u001b[0m\u001b[39;49m A new release of pip available: \u001b[0m\u001b[31;49m22.3.1\u001b[0m\u001b[39;49m -> \u001b[0m\u001b[32;49m23.1.1\u001b[0m\r\n",
      "\u001b[1m[\u001b[0m\u001b[34;49mnotice\u001b[0m\u001b[1;39;49m]\u001b[0m\u001b[39;49m To update, run: \u001b[0m\u001b[32;49mpip install --upgrade pip\u001b[0m\r\n"
     ]
    }
   ],
   "source": [
    "!pip install poetry"
   ]
  },
  {
   "cell_type": "code",
   "execution_count": 3,
   "id": "23f0f5e4",
   "metadata": {},
   "outputs": [
    {
     "name": "stdout",
     "output_type": "stream",
     "text": [
      "Installing dependencies from lock file\n",
      "\n",
      "Package operations: 0 installs, 1 update, 0 removals\n",
      "\n",
      "  • Updating platformdirs (2.6.2 -> 3.3.0)\n",
      "\n",
      "/Users/msu/Repositories/public/colab-demo/colab_demo does not contain any element\n"
     ]
    }
   ],
   "source": [
    "!poetry install --no-ansi"
   ]
  }
 ],
 "metadata": {
  "kernelspec": {
   "display_name": "Python 3 (ipykernel)",
   "language": "python",
   "name": "python3"
  },
  "language_info": {
   "codemirror_mode": {
    "name": "ipython",
    "version": 3
   },
   "file_extension": ".py",
   "mimetype": "text/x-python",
   "name": "python",
   "nbconvert_exporter": "python",
   "pygments_lexer": "ipython3",
   "version": "3.11.1"
  }
 },
 "nbformat": 4,
 "nbformat_minor": 5
}
